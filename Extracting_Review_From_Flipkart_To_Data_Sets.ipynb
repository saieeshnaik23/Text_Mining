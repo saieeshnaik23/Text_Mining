{
  "nbformat": 4,
  "nbformat_minor": 0,
  "metadata": {
    "colab": {
      "provenance": []
    },
    "kernelspec": {
      "name": "python3",
      "display_name": "Python 3"
    },
    "language_info": {
      "name": "python"
    }
  },
  "cells": [
    {
      "cell_type": "code",
      "source": [
        "!pip install bs4"
      ],
      "metadata": {
        "colab": {
          "base_uri": "https://localhost:8080/"
        },
        "id": "i808FjaQdr3_",
        "outputId": "07e6c132-8008-49b8-c469-7b2436bdbbeb"
      },
      "execution_count": 1,
      "outputs": [
        {
          "output_type": "stream",
          "name": "stdout",
          "text": [
            "Collecting bs4\n",
            "  Downloading bs4-0.0.1.tar.gz (1.1 kB)\n",
            "  Preparing metadata (setup.py) ... \u001b[?25l\u001b[?25hdone\n",
            "Requirement already satisfied: beautifulsoup4 in /usr/local/lib/python3.10/dist-packages (from bs4) (4.11.2)\n",
            "Requirement already satisfied: soupsieve>1.2 in /usr/local/lib/python3.10/dist-packages (from beautifulsoup4->bs4) (2.4.1)\n",
            "Building wheels for collected packages: bs4\n",
            "  Building wheel for bs4 (setup.py) ... \u001b[?25l\u001b[?25hdone\n",
            "  Created wheel for bs4: filename=bs4-0.0.1-py3-none-any.whl size=1257 sha256=96c4152c22b28e9655368b5d747322dc7be27f18e8e8648539c88eb39b7a7bd2\n",
            "  Stored in directory: /root/.cache/pip/wheels/25/42/45/b773edc52acb16cd2db4cf1a0b47117e2f69bb4eb300ed0e70\n",
            "Successfully built bs4\n",
            "Installing collected packages: bs4\n",
            "Successfully installed bs4-0.0.1\n"
          ]
        }
      ]
    },
    {
      "cell_type": "code",
      "source": [
        "!pip install requests"
      ],
      "metadata": {
        "colab": {
          "base_uri": "https://localhost:8080/"
        },
        "id": "c1EVgIKxd4sZ",
        "outputId": "d500343c-214a-421c-b721-aa460de78d59"
      },
      "execution_count": 2,
      "outputs": [
        {
          "output_type": "stream",
          "name": "stdout",
          "text": [
            "Requirement already satisfied: requests in /usr/local/lib/python3.10/dist-packages (2.27.1)\n",
            "Requirement already satisfied: urllib3<1.27,>=1.21.1 in /usr/local/lib/python3.10/dist-packages (from requests) (1.26.16)\n",
            "Requirement already satisfied: certifi>=2017.4.17 in /usr/local/lib/python3.10/dist-packages (from requests) (2023.5.7)\n",
            "Requirement already satisfied: charset-normalizer~=2.0.0 in /usr/local/lib/python3.10/dist-packages (from requests) (2.0.12)\n",
            "Requirement already satisfied: idna<4,>=2.5 in /usr/local/lib/python3.10/dist-packages (from requests) (3.4)\n"
          ]
        }
      ]
    },
    {
      "cell_type": "code",
      "source": [
        "import pandas as pd\n",
        "import numpy as np\n",
        "import requests\n",
        "from bs4 import BeautifulSoup"
      ],
      "metadata": {
        "id": "zxoL6zj15FDu"
      },
      "execution_count": 3,
      "outputs": []
    },
    {
      "cell_type": "code",
      "source": [
        "HEADERS = ({ 'User-Agent':'Mozilla/5.0 (Windows NT 10.0; Win64; x64) AppleWebKit/537.36 (KHTML, like Gecko) Chrome/114.0.0.0 Safari/537.36' })\n",
        "product_link = [ ]\n",
        "\n",
        "for x in range(1,20):\n",
        "   link = f'https://www.flipkart.com/oneplus-y1s-80-cm-32-inch-hd-ready-led-smart-android-tv-11-bezel-less-frame/product-reviews/itm0a39edd7df236?pid=TVSGAXEVXNG9YBUM&lid=LSTTVSGAXEVXNG9YBUMA8AVPU&marketplace=FLIPKART%3D1&page={x}'\n",
        "   product_link.append(link)\n",
        "\n",
        "for links in product_link:\n",
        "   r = requests.get(links, headers = HEADERS)\n",
        "   soup = BeautifulSoup(r.content)\n",
        "   reverse_title = soup.find('div' , class_ ='col _2wzgFH K0kLPL')\n",
        "   for title in reverse_title:\n",
        "     title = title.find('p', class_ ='_2-N8zT')\n",
        "     if title:\n",
        "       print(title.text.strip())"
      ],
      "metadata": {
        "id": "dKdJQsgAAxn2"
      },
      "execution_count": null,
      "outputs": []
    },
    {
      "cell_type": "code",
      "source": [
        "HEADERS = ({ 'User-Agent':'Mozilla/5.0 (Windows NT 10.0; Win64; x64) AppleWebKit/537.36 (KHTML, like Gecko) Chrome/114.0.0.0 Safari/537.36' })\n",
        "product_link = [ ]\n",
        "\n",
        "for x in range(1,50):\n",
        "   link = f'https://www.flipkart.com/oneplus-y1s-80-cm-32-inch-hd-ready-led-smart-android-tv-11-bezel-less-frame/product-reviews/itm0a39edd7df236?pid=TVSGAXEVXNG9YBUM&lid=LSTTVSGAXEVXNG9YBUMA8AVPU&marketplace=FLIPKART%3D1&page={x}'\n",
        "   product_link.append(link)\n",
        "\n",
        "import csv\n",
        "with open('reviews.csv', 'w', newline='', encoding='utf-8') as csvfile:\n",
        "  writer = csv.writer(csvfile)\n",
        "  writer.writerow(['Name','Review','Details','Ratings'])\n",
        "\n",
        "  for link in product_link:\n",
        "    r = requests.get(link, headers=HEADERS)\n",
        "    soup = BeautifulSoup(r.content, 'html.parser')\n",
        "    reviews = soup.find_all('div' , class_ ='col _2wzgFH K0kLPL')\n",
        "\n",
        "    for review in reviews:\n",
        "      title = review.find('p', class_='_2-N8zT')#_2sc7ZR _2V5EHH\n",
        "      rating = review.find('div', class_='_3LWZlK _1BLPMq')\n",
        "      name = review.find('p', class_='_2sc7ZR _2V5EHH')#t-ZTKy\n",
        "      details = review.find('div', class_='t-ZTKy')#t-ZTKy\n",
        "      if title and rating and name and details:\n",
        "        writer.writerow([name.text.strip(),title.text.strip(), details.text.strip(), rating.text.strip()])\n",
        "      else:\n",
        "        writer.writerow(['','','',''])\n",
        "\n",
        "    #for review1 in reviews:\n",
        "     # rating = review1.find('div', class_='_3LWZlK _1BLPMq')\n",
        "      #if rating:\n",
        "       # writer.writerow([rating.text.strip()])"
      ],
      "metadata": {
        "id": "8dnG7IhbswPk"
      },
      "execution_count": 45,
      "outputs": []
    },
    {
      "cell_type": "code",
      "source": [],
      "metadata": {
        "id": "XcNYcY9xMauA"
      },
      "execution_count": null,
      "outputs": []
    }
  ]
}